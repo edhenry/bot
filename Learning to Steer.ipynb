{
 "cells": [
  {
   "cell_type": "markdown",
   "metadata": {},
   "source": [
    "# Learning to steer\n",
    "\n",
    "In this notebook we're going to define a way to video from our racer along with a vector that contains the steering information of our racer. This should allow us to take an imitation learning approach in that we have collected a form of human priors of throttle and steering given a situation that the car might be found in and use the steering and throttles responses at different length of timesteps $n$ relative to the frame that out model is viewing.\n",
    "\n",
    "We will use the following notation throughout the notebook.\n",
    "\n",
    "* $\\mathcal{S}$ - set of steering states\n",
    "* $\\mathcal{T}$ - set of throttle states\n",
    "* $\\mathcal{E}$ - set of environments\n",
    "* $c$ - vector of left and right steering and acceleration and braking values\n",
    "    * $\\theta$ - left steering value\n",
    "    * $r$ - right steering value\n",
    "    * $a$ - accelerator value\n",
    "    * $b$ - breaking value\n",
    "\n",
    "$$ c = \\{\\theta_{t}, a_{t}, b_{t}\\} $$"
   ]
  },
  {
   "cell_type": "code",
   "execution_count": 1,
   "metadata": {},
   "outputs": [],
   "source": [
    "from multiprocessing import Process, Manager, Pool\n",
    "import traitlets\n",
    "from traitlets import HasTraits, Bool, observe\n",
    "import time\n",
    "\n",
    "class Capture(HasTraits):\n",
    "    capture = Bool(False, help='Boolean to track image and steering capture state').tag(config=True)\n",
    "    \n",
    "    def __init__(self):\n",
    "        \n",
    "        self.manager = Manager()\n",
    "        self.shared_controller_dicts = self.manager.list()\n",
    "        #self.capture_process = Process(target=self._check_memory)\n",
    "        \n",
    "    @observe('capture')\n",
    "    def _capture(self, change):\n",
    "        \"\"\"\n",
    "        Start capture of frames and acceleration / steering\n",
    "        \"\"\"\n",
    "        if change['new'] == True:\n",
    "            self.capture_process = Process(target=self._check_memory)\n",
    "            self.capture_process.start()\n",
    "            if self.capture_process.is_alive() == True:\n",
    "                print(\"Capture Started!\")\n",
    "        if change['new'] == False:\n",
    "            self.capture_process.terminate()\n",
    "            if self.capture_process.is_alive() == False:\n",
    "                print(\"Capture Stopped!\")\n",
    "            \n",
    "    def _check_memory(self):\n",
    "        \"\"\"\n",
    "        Copy manager list to local process list for saving TFRecords\n",
    "        \"\"\"\n",
    "        \n",
    "        # TODO : This is hacky, and I know it. I will inevitably drop frames on the floor\n",
    "        # because of how this is strung together. Can definitely use more work.\n",
    "        while True:\n",
    "            if len(self.shared_controller_dicts) >= 300:\n",
    "                local_proc_controller_dicts = []; local_proc_controller_dicts.extend(self.shared_controller_dicts) #performance?\n",
    "                self.shared_controller_dicts[:] = []\n",
    "                ts = datetime.datetime.now().timestamp()\n",
    "                save_tf_records(f\"tfrecords/{ts}.tfrecord\", local_proc_controller_dicts)\n",
    "                "
   ]
  },
  {
   "cell_type": "code",
   "execution_count": 2,
   "metadata": {},
   "outputs": [
    {
     "data": {
      "application/vnd.jupyter.widget-view+json": {
       "model_id": "294418530f0d4e3a893b8066470036cf",
       "version_major": 2,
       "version_minor": 0
      },
      "text/plain": [
       "Controller()"
      ]
     },
     "metadata": {},
     "output_type": "display_data"
    }
   ],
   "source": [
    "# Here we're going to try and map an old controller via wireless for control\n",
    "import ipywidgets.widgets as widgets\n",
    "\n",
    "controller = widgets.Controller(index=0)\n",
    "display(controller)\n",
    "\n",
    "from jetracer.nvidia_racecar import NvidiaRacecar\n",
    "car = NvidiaRacecar()"
   ]
  },
  {
   "cell_type": "code",
   "execution_count": 3,
   "metadata": {},
   "outputs": [],
   "source": [
    "steering_control = traitlets.dlink((controller.axes[3], 'value'), (car, 'steering'), transform=lambda x: -x)\n",
    "throttle_control = traitlets.dlink((controller.axes[1], 'value'), (car, 'throttle'), transform=lambda x: -x)\n",
    "\n",
    "from jetcam.csi_camera import CSICamera\n",
    "import datetime\n",
    "import numpy as np\n",
    "from IPython.display import display\n",
    "import ipywidgets\n",
    "from jetcam.utils import bgr8_to_jpeg\n",
    "from jupyter_clickable_image_widget import ClickableImageWidget\n",
    "import tensorflow as tf \n",
    "\n",
    "capture_tracker = Capture()\n",
    "\n",
    "camera = CSICamera(width=224, height=224, capture_width=1080, capture_height=720, capture_fps=20)\n",
    "\n",
    "image = camera.read()\n",
    "\n",
    "image_widget = ipywidgets.Image(format='jpeg')\n",
    "\n",
    "camera.running = True\n",
    "\n",
    "#controller_dicts = []\n",
    "\n",
    "def update_img(change):\n",
    "    image = change['new']\n",
    "    controller_dict = {}\n",
    "    image_widget.value = bgr8_to_jpeg(image)\n",
    "    timestamp = datetime.datetime.now().timestamp()\n",
    "    controller_dict[\"timestamp\"] = timestamp\n",
    "    controller_dict[\"image\"] = image\n",
    "    controller_dict[\"steering_theta\"] = controller.axes[1].value\n",
    "    controller_dict[\"accelerator\"] = controller.axes[3].value\n",
    "    controller_dict[\"height\"] = int(224)\n",
    "    controller_dict[\"width\"] = int(224)\n",
    "    controller_dict[\"capture_width\"] = int(1080)\n",
    "    controller_dict[\"capture_height\"] = int(720)\n",
    "    controller_dict[\"capture_fps\"] = int(20)\n",
    "    controller_dict[\"num_channels\"] = int(3)\n",
    "    capture_tracker.shared_controller_dicts.append(controller_dict)\n",
    "\n",
    "def _ndarray_feature(ndarray: np.ndarray):\n",
    "    assert isinstance(ndarray, np.ndarray) # check if ndarray\n",
    "    dtype = ndarray.dtype\n",
    "    if dtype == np.float64 or dtype == np.float32:\n",
    "        return lambda array: tf.train.Feature(float_list=tf.train.FloatList(value=array))\n",
    "    elif dtype == np.int64:\n",
    "        return lambda array: tf.train.Feature(int64_list=tf.train.Int64List(value=array))\n",
    "    else:\n",
    "        raise ValueError(f\"Input should be a numpy ndarray. Instead got {ndarray.dtype}\")\n",
    "        \n",
    "def _bytes_feature(value):\n",
    "    if isinstance(value, type(tf.constant(0))):\n",
    "        value = value.numpy()\n",
    "    return tf.train.Feature(bytes_list=tf.train.BytesList(value=[value]))\n",
    "\n",
    "def _float_feature(value):\n",
    "    \"\"\"\n",
    "    Return float_list from float/double.\n",
    "    \"\"\"\n",
    "    return tf.train.Feature(float_list=tf.train.FloatList(value=[value]))\n",
    "\n",
    "def _int64_feature(value):\n",
    "    \"\"\"\n",
    "    Returns an int64_list from a bool / enum / int / uint.\n",
    "    \"\"\"\n",
    "    return tf.train.Feature(int64_list=tf.train.Int64List(value=[value]))\n",
    "\n",
    "def serialize_data(timestamp: float, image: np.ndarray, steering_theta: float, \n",
    "                   accelerator: float, height: int, width: int,\n",
    "                   capture_height: int, capture_width: int, capture_fps: int,\n",
    "                   num_channels: int):\n",
    "    \"\"\"\n",
    "    Serialize a TFRecord for our dataset consisting of the following structure\n",
    "    {\"timestamp\": (image, (steering_theta, accelerator_delta))}\n",
    "    \"\"\"\n",
    "    image_str = image.tostring()\n",
    "    control_features = {\n",
    "        'timestamp': _float_feature(timestamp),\n",
    "        'image': _bytes_feature(image_str),\n",
    "        'steering_theta': _float_feature(steering_theta),\n",
    "        'accelerator': _float_feature(accelerator),\n",
    "        'height': _int64_feature(height),\n",
    "        'width': _int64_feature(width),\n",
    "        'capture_height': _int64_feature(capture_height),\n",
    "        'capture_width': _int64_feature(capture_width),\n",
    "        'capture_fps': _int64_feature(capture_fps),\n",
    "        'num_channels': _int64_feature(num_channels)\n",
    "    }\n",
    "    \n",
    "    sdc_proto = tf.train.Example(features=tf.train.Features(feature=control_features))\n",
    "    return sdc_proto.SerializeToString()\n",
    "\n",
    "def save_tf_records(filename: str, examples: list):\n",
    "    \"\"\"\n",
    "    Serialize to TFRecords\n",
    "    \n",
    "    We'll likely want to use a batching logic here with a predicate from the timestamp field of each dictionary contained\n",
    "    with controller_dicts -- this will allow us to thread out the processing and flushing of the controller_dicts list\n",
    "    \"\"\"\n",
    "    with tf.python_io.TFRecordWriter(filename) as writer:\n",
    "        for i in examples:\n",
    "            example = serialize_data(i[\"timestamp\"], i[\"image\"], i[\"steering_theta\"], \n",
    "                                     i[\"accelerator\"], i[\"height\"], i[\"width\"],\n",
    "                                     i[\"capture_height\"], i[\"capture_width\"], i[\"capture_fps\"],\n",
    "                                     i[\"num_channels\"])\n",
    "            writer.write(example)\n",
    "    return"
   ]
  },
  {
   "cell_type": "code",
   "execution_count": 17,
   "metadata": {},
   "outputs": [
    {
     "data": {
      "application/vnd.jupyter.widget-view+json": {
       "model_id": "298ed80ae57a474486fcac8297356eee",
       "version_major": 2,
       "version_minor": 0
      },
      "text/plain": [
       "Image(value=b'\\xff\\xd8\\xff\\xe0\\x00\\x10JFIF\\x00\\x01\\x01\\x00\\x00\\x01\\x00\\x01\\x00\\x00\\xff\\xdb\\x00C\\x00\\x02\\x01\\x0…"
      ]
     },
     "metadata": {},
     "output_type": "display_data"
    }
   ],
   "source": [
    "camera.observe(update_img, names='value')\n",
    "camera_link = traitlets.dlink((camera, 'value'), (image_widget, 'value'), transform=bgr8_to_jpeg)\n",
    "display(image_widget)"
   ]
  },
  {
   "cell_type": "code",
   "execution_count": 82,
   "metadata": {},
   "outputs": [
    {
     "name": "stdout",
     "output_type": "stream",
     "text": [
      "Capture Started!\n"
     ]
    }
   ],
   "source": [
    "capture_tracker.capture = True"
   ]
  },
  {
   "cell_type": "code",
   "execution_count": 83,
   "metadata": {},
   "outputs": [
    {
     "name": "stdout",
     "output_type": "stream",
     "text": [
      "0\n"
     ]
    }
   ],
   "source": [
    "print(len(capture_tracker.shared_controller_dicts))"
   ]
  },
  {
   "cell_type": "code",
   "execution_count": 84,
   "metadata": {},
   "outputs": [],
   "source": [
    "capture_tracker.capture = False"
   ]
  },
  {
   "cell_type": "code",
   "execution_count": 79,
   "metadata": {},
   "outputs": [],
   "source": [
    "camera.unobserve(update_img, names='value')"
   ]
  },
  {
   "cell_type": "code",
   "execution_count": 52,
   "metadata": {},
   "outputs": [],
   "source": [
    "import threading\n",
    "\n",
    "class Capture(HasTraits):\n",
    "    capture = Bool(False, help='Boolean to track image and steering capture state').tag(config=True)\n",
    "    \n",
    "    def __init__(self):\n",
    "        self.current_thread = threading.Thread(target=self._check_memory)\n",
    "        \n",
    "    \n",
    "    @observe('capture')\n",
    "    def _capture(self, change):\n",
    "        \"\"\"\n",
    "        Start capture of frames and acceleration / steering\n",
    "        \"\"\"\n",
    "        current_thread = threading.Thread(target=self._check_memory)\n",
    "        if change['new'] == True:\n",
    "            self.current_thread.start()\n",
    "            print(\"Capture Started!\")\n",
    "        if change['new'] == False:\n",
    "            self.current_thread.do_run = False\n",
    "            self.current_thread.join()\n",
    "            print(\"Capture Stopped!\")\n",
    "            \n",
    "    def _check_memory(self):\n",
    "            current_thread = threading.currentThread()\n",
    "            while getattr(current_thread, \"do_run\", True):\n",
    "                if len(controller_dicts) >= 1200:\n",
    "                    new_controller_dicts = []; new_controller_dicts.extend(controller_dicts)\n",
    "                    controller_dicts[:] = []\n",
    "                    ts = datetime.datetime.now().timestamp()\n",
    "                    save_tf_records(f\"tfrecords/{ts}.tfrecord\", new_controller_dicts)\n",
    "\n",
    "capture_tracker = Capture()"
   ]
  },
  {
   "cell_type": "code",
   "execution_count": 6,
   "metadata": {},
   "outputs": [],
   "source": [
    "import threading \n",
    "\n",
    "class Capture(HasTraits):\n",
    "    capture = Bool(False, help=\"Bool to track image and steering state capture\").tag(config=True)\n",
    "    \n",
    "    def __init__(self):\n",
    "        threading.Thread.__init__(self)\n",
    "        self.paused = False\n",
    "        self.paused_condition = threading.Condition(threading.Lock())\n",
    "    \n",
    "    @observe('capture')\n",
    "    def _capture(self, change):\n",
    "        \"\"\"\n",
    "        Start capture of frames and acceleration / steering\n",
    "        \"\"\"      \n",
    "        if change['new'] == True:\n",
    "            self.resume_capture()\n",
    "            print(\"Capture Started!\")\n",
    "        if change['new'] == False:\n",
    "            self.pause_capture()\n",
    "            print(\"Capture Stopped!\")\n",
    "            \n",
    "    def _check_memory(self):\n",
    "        while True:\n",
    "            with self.paused_condition:\n",
    "                while self.paused:\n",
    "                    self.pause_condition.wait()\n",
    "                    \n",
    "                if len(controller_dicts) >= 1200:\n",
    "                    new_controller_dicts = []; new_controller_dicts.extend(controller_dicts)\n",
    "                    controller_dicts[:] = []\n",
    "                    ts = datetime.datetime.now().timestamp()\n",
    "                    save_tf_records(f\"tfrecords/{ts}.tfrecord\", new_controller_dicts)\n",
    "    \n",
    "    def pause_capture(self):\n",
    "        self.paused = True\n",
    "        self.paused_condition.acqiure()\n",
    "    \n",
    "    def resume_capture(self):\n",
    "        self.paused = False\n",
    "        self.paused_condition.notify()\n",
    "        self.paused_condition.release()\n",
    "        \n",
    "\n",
    "capture_tracker = Capture()"
   ]
  },
  {
   "cell_type": "code",
   "execution_count": null,
   "metadata": {},
   "outputs": [],
   "source": []
  }
 ],
 "metadata": {
  "kernelspec": {
   "display_name": "Python 3",
   "language": "python",
   "name": "python3"
  },
  "language_info": {
   "codemirror_mode": {
    "name": "ipython",
    "version": 3
   },
   "file_extension": ".py",
   "mimetype": "text/x-python",
   "name": "python",
   "nbconvert_exporter": "python",
   "pygments_lexer": "ipython3",
   "version": "3.6.8"
  }
 },
 "nbformat": 4,
 "nbformat_minor": 2
}
