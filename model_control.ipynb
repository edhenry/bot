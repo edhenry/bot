{
 "cells": [
  {
   "cell_type": "code",
   "execution_count": 1,
   "metadata": {},
   "outputs": [],
   "source": [
    "from multiprocessing import Process, Manager, Pool\n",
    "import traitlets\n",
    "from traitlets import HasTraits, Bool, observe\n",
    "import time\n",
    "from memory_profiler import profile\n",
    "\n",
    "# Here we're going to try and map an old controller via wireless for control\n",
    "from jetracer.nvidia_racecar import NvidiaRacecar\n",
    "car = NvidiaRacecar()\n",
    "\n",
    "from jetcam.csi_camera import CSICamera\n",
    "import datetime\n",
    "import numpy as np\n",
    "from IPython.display import display\n",
    "import ipywidgets\n",
    "from jetcam.utils import bgr8_to_jpeg\n",
    "from jupyter_clickable_image_widget import ClickableImageWidget\n",
    "import tensorflow as tf\n",
    "from tensorflow.keras.models import Model\n",
    "from tensorflow.keras.layers import Conv2D, Dense, Dropout, Flatten, Input"
   ]
  },
  {
   "cell_type": "code",
   "execution_count": 2,
   "metadata": {},
   "outputs": [
    {
     "name": "stdout",
     "output_type": "stream",
     "text": [
      "WARNING:tensorflow:From /usr/local/lib/python3.6/dist-packages/tensorflow/python/ops/resource_variable_ops.py:435: colocate_with (from tensorflow.python.framework.ops) is deprecated and will be removed in a future version.\n",
      "Instructions for updating:\n",
      "Colocations handled automatically by placer.\n",
      "WARNING:tensorflow:From /usr/local/lib/python3.6/dist-packages/tensorflow/python/keras/layers/core.py:143: calling dropout (from tensorflow.python.ops.nn_ops) with keep_prob is deprecated and will be removed in a future version.\n",
      "Instructions for updating:\n",
      "Please use `rate` instead of `keep_prob`. Rate should be set to `rate = 1 - keep_prob`.\n",
      "WARNING:tensorflow:From /usr/local/lib/python3.6/dist-packages/tensorflow/python/keras/utils/losses_utils.py:170: to_float (from tensorflow.python.ops.math_ops) is deprecated and will be removed in a future version.\n",
      "Instructions for updating:\n",
      "Use tf.cast instead.\n"
     ]
    }
   ],
   "source": [
    "input_image = Input(shape=(224,224,3), name='image')\n",
    "conv1 = Conv2D(24, (5,5), name='conv1', strides=(2,2), padding='valid', activation='relu', kernel_initializer='he_normal')(input_image)\n",
    "conv2 = Conv2D(36, (5,5), name='conv2', strides=(2,2), padding='valid', activation='relu', kernel_initializer='he_normal')(conv1)\n",
    "conv3 = Conv2D(48, (5,5), name='conv3', strides=(2,2), padding='valid', activation='relu', kernel_initializer='he_normal')(conv2)\n",
    "\n",
    "dropout_1 = Dropout(0.5)(conv3)\n",
    "\n",
    "conv4 = Conv2D(64, (3,3), name='conv4', strides=(1,1), padding='valid', activation='relu', kernel_initializer='he_normal')(dropout_1)\n",
    "conv5 = Conv2D(64, (3,3), name='conv5', strides=(1,1), padding='valid', activation='relu', kernel_initializer='he_normal')(conv4)\n",
    "\n",
    "flatten = Flatten(name='flatten')(conv5)\n",
    "\n",
    "# input_acceleration = Input(shape=(1,), name='acceleration_input')\n",
    "# acceleration = Dense(1, name='acceleration_layer', activation='tanh', kernel_initializer='he_normal')(input_acceleration)\n",
    "\n",
    "# concat = concatenate([flatten, acceleration])\n",
    "\n",
    "fc1 = Dense(100, name='fc1', activation='relu', kernel_initializer='he_normal')(flatten)\n",
    "fc2 = Dense(50, name='fc2', activation='relu', kernel_initializer='he_normal')(fc1)\n",
    "fc3 = Dense(10, name='fc3', activation='relu', kernel_initializer='he_normal')(fc2)\n",
    "output_steering = Dense(1, name='steering_output', activation='tanh', kernel_initializer='he_normal')(fc3)\n",
    "#output_acceleration = Dense(1, name='acceleration_output', activation='tanh', kernel_initializer='he_normal')(fc3)\n",
    "\n",
    "model = tf.keras.Model(inputs=input_image, outputs=output_steering)\n",
    "\n",
    "steering_output_target = tf.placeholder(name=\"steering_output_target\", dtype=tf.float32)\n",
    "\n",
    "# model.compile(loss='mse', optimizer='Adam', metrics=['accuracy'])\n",
    "model.compile(loss='mse', optimizer='Adam', metrics=['accuracy'])"
   ]
  },
  {
   "cell_type": "code",
   "execution_count": 3,
   "metadata": {},
   "outputs": [],
   "source": [
    "model.load_weights('/home/jetson/jetracer/notebooks/latest_model/22-10')"
   ]
  },
  {
   "cell_type": "code",
   "execution_count": 4,
   "metadata": {},
   "outputs": [
    {
     "name": "stdout",
     "output_type": "stream",
     "text": [
      "_________________________________________________________________\n",
      "Layer (type)                 Output Shape              Param #   \n",
      "=================================================================\n",
      "image (InputLayer)           (None, 224, 224, 3)       0         \n",
      "_________________________________________________________________\n",
      "conv1 (Conv2D)               (None, 110, 110, 24)      1824      \n",
      "_________________________________________________________________\n",
      "conv2 (Conv2D)               (None, 53, 53, 36)        21636     \n",
      "_________________________________________________________________\n",
      "conv3 (Conv2D)               (None, 25, 25, 48)        43248     \n",
      "_________________________________________________________________\n",
      "dropout (Dropout)            (None, 25, 25, 48)        0         \n",
      "_________________________________________________________________\n",
      "conv4 (Conv2D)               (None, 23, 23, 64)        27712     \n",
      "_________________________________________________________________\n",
      "conv5 (Conv2D)               (None, 21, 21, 64)        36928     \n",
      "_________________________________________________________________\n",
      "flatten (Flatten)            (None, 28224)             0         \n",
      "_________________________________________________________________\n",
      "fc1 (Dense)                  (None, 100)               2822500   \n",
      "_________________________________________________________________\n",
      "fc2 (Dense)                  (None, 50)                5050      \n",
      "_________________________________________________________________\n",
      "fc3 (Dense)                  (None, 10)                510       \n",
      "_________________________________________________________________\n",
      "steering_output (Dense)      (None, 1)                 11        \n",
      "=================================================================\n",
      "Total params: 2,959,419\n",
      "Trainable params: 2,959,419\n",
      "Non-trainable params: 0\n",
      "_________________________________________________________________\n"
     ]
    }
   ],
   "source": [
    "model.summary()"
   ]
  },
  {
   "cell_type": "code",
   "execution_count": 5,
   "metadata": {},
   "outputs": [
    {
     "data": {
      "application/vnd.jupyter.widget-view+json": {
       "model_id": "7771d06bcc744cfc9e8e2bea452f075c",
       "version_major": 2,
       "version_minor": 0
      },
      "text/plain": [
       "HBox(children=(Image(value=b'\\xff\\xd8\\xff\\xe0\\x00\\x10JFIF\\x00\\x01\\x01\\x00\\x00\\x01\\x00\\x01\\x00\\x00\\xff\\xdb\\x00C…"
      ]
     },
     "metadata": {},
     "output_type": "display_data"
    }
   ],
   "source": [
    "camera = CSICamera(width=224, height=224, capture_width=1080, capture_height=720, capture_fps=20)\n",
    "image = ipywidgets.widgets.Image(format='jpeg', width=224, height=224)\n",
    "steering_slider = ipywidgets.widgets.FloatSlider(description=\"Steering Value\", min=-1.0, max=1.0, orientation='horizontal')\n",
    "\n",
    "camera_link = traitlets.dlink((camera, 'value'), (image, 'value'), transform=bgr8_to_jpeg)\n",
    "#camera.running = True\n",
    "\n",
    "#controller_dicts = []\n",
    "\n",
    "def _ndarray_feature(ndarray: np.ndarray):\n",
    "    assert isinstance(ndarray, np.ndarray) # check if ndarray\n",
    "    dtype = ndarray.dtype\n",
    "    if dtype == np.float64 or dtype == np.float32:\n",
    "        return lambda array: tf.train.Feature(float_list=tf.train.FloatList(value=array))\n",
    "    elif dtype == np.int64:\n",
    "        return lambda array: tf.train.Feature(int64_list=tf.train.Int64List(value=array))\n",
    "    else:\n",
    "        raise ValueError(f\"Input should be a numpy ndarray. Instead got {ndarray.dtype}\")\n",
    "\n",
    "display(ipywidgets.HBox([image, steering_slider]))"
   ]
  },
  {
   "cell_type": "code",
   "execution_count": null,
   "metadata": {},
   "outputs": [],
   "source": [
    "graph = tf.get_default_graph()\n",
    "\n",
    "car.throttle = 0.25\n",
    "\n",
    "while True:\n",
    "    image = camera.read()\n",
    "    image = image.reshape(1,224,224,3)\n",
    "    output = model.predict(image)\n",
    "    steering_slider.value = output\n",
    "    steer = float(output[0])\n",
    "    car.steering = steer"
   ]
  },
  {
   "cell_type": "code",
   "execution_count": null,
   "metadata": {},
   "outputs": [],
   "source": []
  }
 ],
 "metadata": {
  "kernelspec": {
   "display_name": "Python 3",
   "language": "python",
   "name": "python3"
  },
  "language_info": {
   "codemirror_mode": {
    "name": "ipython",
    "version": 3
   },
   "file_extension": ".py",
   "mimetype": "text/x-python",
   "name": "python",
   "nbconvert_exporter": "python",
   "pygments_lexer": "ipython3",
   "version": "3.6.8"
  }
 },
 "nbformat": 4,
 "nbformat_minor": 2
}
