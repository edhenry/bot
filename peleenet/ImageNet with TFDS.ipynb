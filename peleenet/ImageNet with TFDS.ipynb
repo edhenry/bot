{
 "cells": [
  {
   "cell_type": "code",
   "execution_count": null,
   "metadata": {},
   "outputs": [],
   "source": [
    "!python -m pip install --user tensorflow-datasets\n",
    "!python -m pip install --user tensorflow-addons"
   ]
  },
  {
   "cell_type": "code",
   "execution_count": null,
   "metadata": {},
   "outputs": [],
   "source": [
    "from __future__ import absolute_import, division, print_function\n",
    "\n",
    "import matplotlib.pyplot as plt\n",
    "import numpy as np\n",
    "import tensorflow.compat.v2 as tf\n",
    "\n",
    "import tensorflow_datasets as tfds\n",
    "import tensorflow_addons as tfa\n",
    "\n",
    "from IPython.core.display import display, HTML\n",
    "display(HTML(\"<style>.container { width:75% !important; }</style>\"))"
   ]
  },
  {
   "cell_type": "code",
   "execution_count": null,
   "metadata": {},
   "outputs": [],
   "source": [
    "# testing MNIST\n",
    "mnist = tfds.load(name='mnist', split=\"train\")"
   ]
  },
  {
   "cell_type": "code",
   "execution_count": null,
   "metadata": {},
   "outputs": [],
   "source": [
    "assert isinstance(mnist, tf.data.Dataset)\n",
    "print(mnist)"
   ]
  },
  {
   "cell_type": "code",
   "execution_count": null,
   "metadata": {},
   "outputs": [],
   "source": [
    "for e in mnist.take(1):\n",
    "    image, label = e['image'], e['label']\n",
    "\n",
    "plt.imshow(image.numpy()[:,:,0].astype(np.float32), cmap=plt.get_cmap('gray'))\n",
    "print(f'Label: {label.numpy()}')"
   ]
  },
  {
   "cell_type": "code",
   "execution_count": null,
   "metadata": {},
   "outputs": [],
   "source": [
    "cifar100_builder = tfds.builder(\"cifar100\")"
   ]
  },
  {
   "cell_type": "code",
   "execution_count": null,
   "metadata": {},
   "outputs": [],
   "source": [
    "cifar100_info = cifar100_builder.info\n",
    "print(cifar100_info)"
   ]
  },
  {
   "cell_type": "code",
   "execution_count": null,
   "metadata": {},
   "outputs": [],
   "source": [
    "cifar100_builder.download_and_prepare()"
   ]
  },
  {
   "cell_type": "code",
   "execution_count": null,
   "metadata": {},
   "outputs": [],
   "source": [
    "cifar100 = cifar100_builder.as_dataset()"
   ]
  },
  {
   "cell_type": "code",
   "execution_count": null,
   "metadata": {},
   "outputs": [],
   "source": [
    "cifar_train, cifar_test = cifar100[\"train\"], cifar100[\"test\"]\n",
    "assert isinstance(cifar_train, tf.data.Dataset)\n",
    "\n",
    "def load_labels(idx: int) -> str:\n",
    "    coarse_labels = ['apple','aquarium_fish','baby','bear','beaver','bed','bee','beetle','bicycle','bottle',\n",
    "                     'bowl','boy','bridge','bus','butterfly','camel','can','castle','caterpillar','cattle',\n",
    "                     'chair','chimpanzee','clock','cloud','cockroach','couch','crab','crocodile','cup','dinosaur',\n",
    "                     'dolphin','elephant','flatfish','forest','fox','girl','hamster','house','kangaroo','computer_keyboard',\n",
    "                     'lamp','lawn_mower','leopard','lion','lizard','lobster','man','maple_tree','motorcycle','mountain',\n",
    "                     'mouse','mushroom','oak_tree','orange','orchid','otter','palm_tree','pear','pickup_truck','pine_tree',\n",
    "                     'plain','plate','poppy','porcupine','possum','rabbit','raccoon','ray','road','rocket',\n",
    "                     'rose','sea','seal','shark','shrew','skunk','skyscraper','snail','snake','spider',\n",
    "                     'squirrel','streetcar','sunflower','sweet_pepper','table','tank','telephone','television','tiger','tractor',\n",
    "                     'train','trout','tulip','turtle','wardrobe','whale','willow_tree','wolf','woman','worm']\n",
    "    return coarse_labels[idx]"
   ]
  },
  {
   "cell_type": "code",
   "execution_count": null,
   "metadata": {
    "scrolled": false
   },
   "outputs": [],
   "source": [
    "fig = plt.figure(figsize=(50,75))\n",
    "fig.subplots_adjust(hspace=1, wspace=0.5, right=.5)\n",
    "num_samples = 64\n",
    "j = 1\n",
    "for i in cifar_train.take(num_samples):\n",
    "    image, label = i['image'], i['label']\n",
    "    # remember when utilizing tfaddons to rotate the iamges, the angles argument\n",
    "    # takes the angle of rotation in radians\n",
    "    image = tfa.image.rotate(image, angles=0)\n",
    "    rot_image = tfa.image.rotate(image, angles=np.pi)\n",
    "    ax = fig.add_subplot(num_samples/4, 8, j)\n",
    "    ttl = ax.title\n",
    "    ttl.set_position([.5, 1.05])\n",
    "    ax.title.set_text(load_labels(label.numpy()))\n",
    "    ax.imshow(image.numpy().astype(np.float32)/255.0)\n",
    "    j += 1"
   ]
  },
  {
   "cell_type": "raw",
   "metadata": {},
   "source": []
  },
  {
   "cell_type": "code",
   "execution_count": null,
   "metadata": {},
   "outputs": [],
   "source": [
    "image_net = tfds.builder(name='imagenet2012')"
   ]
  },
  {
   "cell_type": "code",
   "execution_count": null,
   "metadata": {},
   "outputs": [],
   "source": [
    "download_config = tfds.download.DownloadConfig()"
   ]
  },
  {
   "cell_type": "code",
   "execution_count": null,
   "metadata": {},
   "outputs": [],
   "source": [
    "download_config.manual_dir = \"./\"\n",
    "download_config.extract_dir = \"./\""
   ]
  },
  {
   "cell_type": "code",
   "execution_count": null,
   "metadata": {},
   "outputs": [],
   "source": [
    "image_net.download_and_prepare(download_config=download_config)"
   ]
  },
  {
   "cell_type": "code",
   "execution_count": null,
   "metadata": {},
   "outputs": [],
   "source": [
    "imagenet = image_net.as_dataset()"
   ]
  },
  {
   "cell_type": "code",
   "execution_count": null,
   "metadata": {},
   "outputs": [],
   "source": [
    "imagenet_train, imagenet_valid = imagenet['train'], imagenet['validation']"
   ]
  },
  {
   "cell_type": "code",
   "execution_count": null,
   "metadata": {
    "scrolled": false
   },
   "outputs": [],
   "source": [
    "fig = plt.figure(figsize=(20,20))\n",
    "fig.subplots_adjust(hspace=.4, wspace=0.5, right=1.5)\n",
    "num_samples = 24\n",
    "j = 1\n",
    "for im in imagenet_train.take(num_samples):\n",
    "    image, label = im['image'], im['label']\n",
    "    # remember when utilizing tfaddons to rotate the iamges, the angles argument\n",
    "    # takes the angle of rotation in radians\n",
    "    image = tfa.image.rotate(image, angles=0)\n",
    "    rot_image = tfa.image.rotate(image, angles=np.pi)\n",
    "    ax = fig.add_subplot(num_samples/4, 8, j)\n",
    "    #ttl = ax.title\n",
    "    #ttl.set_position([.5, 1.05])\n",
    "    #ax.title.set_text(load_labels(label.numpy()))\n",
    "    ax.imshow(image.numpy())\n",
    "    j += 1"
   ]
  },
  {
   "cell_type": "code",
   "execution_count": 1,
   "metadata": {},
   "outputs": [
    {
     "name": "stderr",
     "output_type": "stream",
     "text": [
      "usage: ipykernel_launcher.py [-h] --envdir ENVDIR --logdir LOGDIR\n",
      "ipykernel_launcher.py: error: the following arguments are required: --envdir, --logdir\n"
     ]
    },
    {
     "ename": "SystemExit",
     "evalue": "2",
     "output_type": "error",
     "traceback": [
      "An exception has occurred, use %tb to see the full traceback.\n",
      "\u001b[0;31mSystemExit\u001b[0m\u001b[0;31m:\u001b[0m 2\n"
     ]
    },
    {
     "name": "stderr",
     "output_type": "stream",
     "text": [
      "/usr/local/lib/python3.6/dist-packages/IPython/core/interactiveshell.py:3327: UserWarning: To exit: use 'exit', 'quit', or Ctrl-D.\n",
      "  warn(\"To exit: use 'exit', 'quit', or Ctrl-D.\", stacklevel=1)\n"
     ]
    }
   ],
   "source": [
    "# Copyright 2020 The TensorFlow Authors. All Rights Reserved.\n",
    "#\n",
    "# Licensed under the Apache License, Version 2.0 (the \"License\");\n",
    "# you may not use this file except in compliance with the License.\n",
    "# You may obtain a copy of the License at\n",
    "#\n",
    "#     http://www.apache.org/licenses/LICENSE-2.0\n",
    "#\n",
    "# Unless required by applicable law or agreed to in writing, software\n",
    "# distributed under the License is distributed on an \"AS IS\" BASIS,\n",
    "# WITHOUT WARRANTIES OR CONDITIONS OF ANY KIND, either express or implied.\n",
    "# See the License for the specific language governing permissions and\n",
    "# limitations under the License.\n",
    "# ==============================================================================\n",
    "\"\"\"Install and run the TensorBoard plugin for performance analysis.\n",
    "\n",
    "   Usage: python3 install_and_run.py --envdir ENVDIR --logdir LOGDIR\n",
    "\"\"\"\n",
    "\n",
    "# Lint as: python3\n",
    "\n",
    "import argparse\n",
    "import os\n",
    "import subprocess\n",
    "\n",
    "\n",
    "def run(*args):\n",
    "  \"\"\"Runs a shell command.\"\"\"\n",
    "  subprocess.run(' '.join(args), shell=True, check=True)\n",
    "\n",
    "\n",
    "class VirtualEnv(object):\n",
    "  \"\"\"Creates and runs programs in a virtual environment.\"\"\"\n",
    "\n",
    "  def __init__(self, envdir):\n",
    "    self.envdir = envdir\n",
    "    run('virtualenv', '--system-site-packages', '-p', 'python3', self.envdir)\n",
    "\n",
    "  def run(self, program, *args):\n",
    "    run(os.path.join(self.envdir, 'bin', program), *args)\n",
    "\n",
    "\n",
    "def main():\n",
    "  parser = argparse.ArgumentParser(description=__doc__)\n",
    "  parser.add_argument('--envdir', help='Virtual environment', required=True)\n",
    "  parser.add_argument('--logdir', help='TensorBoard logdir', required=True)\n",
    "  args = parser.parse_args()\n",
    "  venv = VirtualEnv(args.envdir)\n",
    "  venv.run('pip3', 'uninstall', '-q', '-y', 'tensorboard')\n",
    "  venv.run('pip3', 'uninstall', '-q', '-y', 'tensorflow')\n",
    "  venv.run('pip3', 'install', '-q', '-U', 'tf-nightly')\n",
    "  venv.run('pip3', 'install', '-q', '-U', 'tb-nightly')\n",
    "  venv.run('pip3', 'install', '-q', '-U', 'tensorboard_plugin_profile')\n",
    "  venv.run('tensorboard', '--logdir=' + args.logdir, '--bind_all')\n",
    "\n",
    "\n",
    "if __name__ == '__main__':\n",
    "  main()\n"
   ]
  },
  {
   "cell_type": "code",
   "execution_count": 3,
   "metadata": {},
   "outputs": [],
   "source": [
    "!ldconfig -p | grep libcupti"
   ]
  },
  {
   "cell_type": "code",
   "execution_count": 5,
   "metadata": {},
   "outputs": [
    {
     "name": "stdout",
     "output_type": "stream",
     "text": [
      "Get:1 http://archive.ubuntu.com/ubuntu bionic/multiverse amd64 libcupti-dev amd64 9.1.85-3ubuntu1 [73.9 kB]\n",
      "Fetched 73.9 kB in 1s (94.4 kB/s)     \n"
     ]
    }
   ],
   "source": [
    "!apt-get download libcupti-dev"
   ]
  },
  {
   "cell_type": "code",
   "execution_count": 7,
   "metadata": {},
   "outputs": [
    {
     "name": "stdout",
     "output_type": "stream",
     "text": [
      "/bin/sh: 1: dkpg: not found\r\n"
     ]
    }
   ],
   "source": [
    "!dkpg -x libcupti-dev_9.1.85-3ubuntu1_amd64.deb --force-not-root --root=$HOME"
   ]
  },
  {
   "cell_type": "code",
   "execution_count": null,
   "metadata": {},
   "outputs": [],
   "source": []
  }
 ],
 "metadata": {
  "kernelspec": {
   "display_name": "Python 3",
   "language": "python",
   "name": "python3"
  },
  "language_info": {
   "codemirror_mode": {
    "name": "ipython",
    "version": 3
   },
   "file_extension": ".py",
   "mimetype": "text/x-python",
   "name": "python",
   "nbconvert_exporter": "python",
   "pygments_lexer": "ipython3",
   "version": "3.6.9"
  }
 },
 "nbformat": 4,
 "nbformat_minor": 4
}
